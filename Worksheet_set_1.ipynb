{
  "nbformat": 4,
  "nbformat_minor": 0,
  "metadata": {
    "colab": {
      "provenance": []
    },
    "kernelspec": {
      "name": "python3",
      "display_name": "Python 3"
    },
    "language_info": {
      "name": "python"
    }
  },
  "cells": [
    {
      "cell_type": "markdown",
      "source": [
        "***Python Assignment***"
      ],
      "metadata": {
        "id": "eL0AeGURyDCA"
      }
    },
    {
      "cell_type": "markdown",
      "source": [
        "**Q11 to Q15 are programming questions. Answer them in Jupyter Notebook.**"
      ],
      "metadata": {
        "id": "I7uaHE_kyNsD"
      }
    },
    {
      "cell_type": "markdown",
      "source": [
        "11. Write a python program to find the factorial of a number."
      ],
      "metadata": {
        "id": "qAdXqgUPyUWi"
      }
    },
    {
      "cell_type": "code",
      "source": [
        "input1 =int(input('Enter a number:\\t'))\n",
        "f=1\n",
        "for i in range(1, input1+1):\n",
        "  f=f*i\n",
        "print ('\\nFactorial of', input1, '=',f)"
      ],
      "metadata": {
        "colab": {
          "base_uri": "https://localhost:8080/"
        },
        "id": "fpexHoPryXdS",
        "outputId": "db25a8bc-1ea0-420f-ef0d-4a216ead466a"
      },
      "execution_count": 37,
      "outputs": [
        {
          "output_type": "stream",
          "name": "stdout",
          "text": [
            "Enter a number:\t11\n",
            "\n",
            "Factorial of 11 = 39916800\n"
          ]
        }
      ]
    },
    {
      "cell_type": "markdown",
      "source": [
        "12. Write a python program to find whether a number is prime or composite."
      ],
      "metadata": {
        "id": "3YMtpDUXyw4h"
      }
    },
    {
      "cell_type": "code",
      "source": [
        "number=int(input(\"Enter any Number : \"))\n",
        "count=0\n",
        "for a in range(2,number):\n",
        "    if number%a==0:\n",
        "        count+=1\n",
        "if count>=1:\n",
        "    print(number, \"is Composite Number\")\n",
        "else:\n",
        "    print(number, \"is Prime Number\")"
      ],
      "metadata": {
        "colab": {
          "base_uri": "https://localhost:8080/"
        },
        "id": "W_gf1kyvy0fh",
        "outputId": "bfb5ce71-ab56-4115-e42d-587fc0851e12"
      },
      "execution_count": 39,
      "outputs": [
        {
          "output_type": "stream",
          "name": "stdout",
          "text": [
            "Enter any Number : 57\n",
            "57 is Composite Number\n"
          ]
        }
      ]
    },
    {
      "cell_type": "markdown",
      "source": [
        "13. Write a python program to check whether a given string is palindrome or not."
      ],
      "metadata": {
        "id": "4kgBOZjZziZw"
      }
    },
    {
      "cell_type": "code",
      "source": [
        "string = input(\"Please enter your String : \")\n",
        "\n",
        "str1 = \"\"\n",
        "\n",
        "for i in string:\n",
        "    str1 = i + str1  \n",
        "print(\"String in reverse Order :  \", str1)\n",
        "\n",
        "if(string == str1):\n",
        "       print(\"This is a Palindrome String\")\n",
        "else:\n",
        "       print(\"This is Not a Palindrome String\")"
      ],
      "metadata": {
        "colab": {
          "base_uri": "https://localhost:8080/"
        },
        "id": "AmUlpFxrzlkg",
        "outputId": "de0e38fd-8afa-4390-b2c0-132c8aca435d"
      },
      "execution_count": 40,
      "outputs": [
        {
          "output_type": "stream",
          "name": "stdout",
          "text": [
            "Please enter your String : 7\n",
            "String in reverse Order :   7\n",
            "This is a Palindrome String\n"
          ]
        }
      ]
    },
    {
      "cell_type": "markdown",
      "source": [
        "14. Write a Python program to get the third side of right-angled triangle from two given sides."
      ],
      "metadata": {
        "id": "aIm1DAdXz72C"
      }
    },
    {
      "cell_type": "code",
      "source": [
        "import math\n",
        "\n",
        "base= float(input(\"Enter base: \"))\n",
        "\n",
        "height= float(input(\"Enter height: \"))\n",
        "\n",
        "\n",
        "c = math.sqrt(base ** 2 + height ** 2)\n",
        "\n",
        "print(\"Hypotenuse =\", c)"
      ],
      "metadata": {
        "colab": {
          "base_uri": "https://localhost:8080/"
        },
        "id": "_pDekJ9az-o4",
        "outputId": "c63a55ce-d0b0-4b68-eaab-e8812abb94ec"
      },
      "execution_count": 41,
      "outputs": [
        {
          "output_type": "stream",
          "name": "stdout",
          "text": [
            "Enter base: 2\n",
            "Enter height: 3\n",
            "Hypotenuse = 3.605551275463989\n"
          ]
        }
      ]
    },
    {
      "cell_type": "markdown",
      "source": [
        "15. Write a python program to print the frequency of each of the characters present in a given string."
      ],
      "metadata": {
        "id": "xkf3z1bl05lW"
      }
    },
    {
      "cell_type": "code",
      "source": [
        "Text=input(\"Enter your value: \")\n",
        "frequency={}\n",
        "for i in Text:\n",
        "    if i in frequency:\n",
        "        frequency[i]+=1\n",
        "    else:\n",
        "        frequency[i]=1\n",
        "print('The frequency of each of the characters present in a given string is:' , frequency)"
      ],
      "metadata": {
        "colab": {
          "base_uri": "https://localhost:8080/"
        },
        "id": "QcjfsnDL07P4",
        "outputId": "971b7edd-d1c1-4cfe-ea4e-c4dcce6d55d0"
      },
      "execution_count": 44,
      "outputs": [
        {
          "output_type": "stream",
          "name": "stdout",
          "text": [
            "Enter your value: apple\n",
            "The frequency of each of the characters present in a given string is: {'a': 1, 'p': 2, 'l': 1, 'e': 1}\n"
          ]
        }
      ]
    },
    {
      "cell_type": "code",
      "source": [],
      "metadata": {
        "id": "1TPPIpaN1ARM"
      },
      "execution_count": null,
      "outputs": []
    }
  ]
}